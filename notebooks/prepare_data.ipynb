{
 "cells": [
  {
   "cell_type": "markdown",
   "metadata": {},
   "source": [
    "## Import libraries "
   ]
  },
  {
   "cell_type": "code",
   "execution_count": 1,
   "metadata": {},
   "outputs": [],
   "source": [
    "import os\n",
    "import pandas as pd\n",
    "import pickle\n",
    "import numpy\n",
    "import numpy as np\n",
    "import json\n",
    "\n",
    "import matplotlib.pyplot as plt\n",
    "%matplotlib inline"
   ]
  },
  {
   "cell_type": "markdown",
   "metadata": {},
   "source": [
    "## Import Data "
   ]
  },
  {
   "cell_type": "code",
   "execution_count": 2,
   "metadata": {},
   "outputs": [],
   "source": [
    "dataset = pd.read_csv('../UDS.csv', low_memory=False)"
   ]
  },
  {
   "cell_type": "code",
   "execution_count": 3,
   "metadata": {},
   "outputs": [
    {
     "data": {
      "text/html": [
       "<div>\n",
       "<style scoped>\n",
       "    .dataframe tbody tr th:only-of-type {\n",
       "        vertical-align: middle;\n",
       "    }\n",
       "\n",
       "    .dataframe tbody tr th {\n",
       "        vertical-align: top;\n",
       "    }\n",
       "\n",
       "    .dataframe thead th {\n",
       "        text-align: right;\n",
       "    }\n",
       "</style>\n",
       "<table border=\"1\" class=\"dataframe\">\n",
       "  <thead>\n",
       "    <tr style=\"text-align: right;\">\n",
       "      <th></th>\n",
       "      <th>NACCADC</th>\n",
       "      <th>NACCID</th>\n",
       "      <th>NACCVNUM</th>\n",
       "      <th>FORMVER</th>\n",
       "      <th>PACKET</th>\n",
       "      <th>VISITMO</th>\n",
       "      <th>VISITDAY</th>\n",
       "      <th>VISITYR</th>\n",
       "      <th>NACCREAS</th>\n",
       "      <th>NACCREFR</th>\n",
       "      <th>...</th>\n",
       "      <th>NACCDSMO</th>\n",
       "      <th>NACCDSDY</th>\n",
       "      <th>NACCDSYR</th>\n",
       "      <th>NACCNURP</th>\n",
       "      <th>NACCNRMO</th>\n",
       "      <th>NACCNRDY</th>\n",
       "      <th>NACCNRYR</th>\n",
       "      <th>ADGCGWAS</th>\n",
       "      <th>ADGCADSP</th>\n",
       "      <th>ADGCRND</th>\n",
       "    </tr>\n",
       "  </thead>\n",
       "  <tbody>\n",
       "    <tr>\n",
       "      <th>0</th>\n",
       "      <td>1416</td>\n",
       "      <td>NACC000011</td>\n",
       "      <td>1</td>\n",
       "      <td>1</td>\n",
       "      <td>I</td>\n",
       "      <td>4</td>\n",
       "      <td>17</td>\n",
       "      <td>2006</td>\n",
       "      <td>1</td>\n",
       "      <td>8</td>\n",
       "      <td>...</td>\n",
       "      <td>3</td>\n",
       "      <td>1</td>\n",
       "      <td>2010</td>\n",
       "      <td>0</td>\n",
       "      <td>88</td>\n",
       "      <td>88</td>\n",
       "      <td>8888</td>\n",
       "      <td>0</td>\n",
       "      <td>0</td>\n",
       "      <td>88</td>\n",
       "    </tr>\n",
       "    <tr>\n",
       "      <th>1</th>\n",
       "      <td>1416</td>\n",
       "      <td>NACC000011</td>\n",
       "      <td>2</td>\n",
       "      <td>1</td>\n",
       "      <td>F</td>\n",
       "      <td>6</td>\n",
       "      <td>18</td>\n",
       "      <td>2007</td>\n",
       "      <td>1</td>\n",
       "      <td>8</td>\n",
       "      <td>...</td>\n",
       "      <td>3</td>\n",
       "      <td>1</td>\n",
       "      <td>2010</td>\n",
       "      <td>0</td>\n",
       "      <td>88</td>\n",
       "      <td>88</td>\n",
       "      <td>8888</td>\n",
       "      <td>0</td>\n",
       "      <td>0</td>\n",
       "      <td>88</td>\n",
       "    </tr>\n",
       "    <tr>\n",
       "      <th>2</th>\n",
       "      <td>1416</td>\n",
       "      <td>NACC000011</td>\n",
       "      <td>3</td>\n",
       "      <td>2</td>\n",
       "      <td>F</td>\n",
       "      <td>6</td>\n",
       "      <td>3</td>\n",
       "      <td>2008</td>\n",
       "      <td>1</td>\n",
       "      <td>8</td>\n",
       "      <td>...</td>\n",
       "      <td>3</td>\n",
       "      <td>1</td>\n",
       "      <td>2010</td>\n",
       "      <td>0</td>\n",
       "      <td>88</td>\n",
       "      <td>88</td>\n",
       "      <td>8888</td>\n",
       "      <td>0</td>\n",
       "      <td>0</td>\n",
       "      <td>88</td>\n",
       "    </tr>\n",
       "    <tr>\n",
       "      <th>3</th>\n",
       "      <td>1416</td>\n",
       "      <td>NACC000011</td>\n",
       "      <td>4</td>\n",
       "      <td>2</td>\n",
       "      <td>F</td>\n",
       "      <td>8</td>\n",
       "      <td>3</td>\n",
       "      <td>2009</td>\n",
       "      <td>1</td>\n",
       "      <td>8</td>\n",
       "      <td>...</td>\n",
       "      <td>3</td>\n",
       "      <td>1</td>\n",
       "      <td>2010</td>\n",
       "      <td>0</td>\n",
       "      <td>88</td>\n",
       "      <td>88</td>\n",
       "      <td>8888</td>\n",
       "      <td>0</td>\n",
       "      <td>0</td>\n",
       "      <td>88</td>\n",
       "    </tr>\n",
       "    <tr>\n",
       "      <th>4</th>\n",
       "      <td>9661</td>\n",
       "      <td>NACC000034</td>\n",
       "      <td>1</td>\n",
       "      <td>3</td>\n",
       "      <td>I</td>\n",
       "      <td>7</td>\n",
       "      <td>16</td>\n",
       "      <td>2015</td>\n",
       "      <td>1</td>\n",
       "      <td>1</td>\n",
       "      <td>...</td>\n",
       "      <td>88</td>\n",
       "      <td>88</td>\n",
       "      <td>8888</td>\n",
       "      <td>0</td>\n",
       "      <td>88</td>\n",
       "      <td>88</td>\n",
       "      <td>8888</td>\n",
       "      <td>0</td>\n",
       "      <td>0</td>\n",
       "      <td>88</td>\n",
       "    </tr>\n",
       "  </tbody>\n",
       "</table>\n",
       "<p>5 rows × 958 columns</p>\n",
       "</div>"
      ],
      "text/plain": [
       "   NACCADC      NACCID  NACCVNUM  FORMVER PACKET  VISITMO  VISITDAY  VISITYR  \\\n",
       "0     1416  NACC000011         1        1      I        4        17     2006   \n",
       "1     1416  NACC000011         2        1      F        6        18     2007   \n",
       "2     1416  NACC000011         3        2      F        6         3     2008   \n",
       "3     1416  NACC000011         4        2      F        8         3     2009   \n",
       "4     9661  NACC000034         1        3      I        7        16     2015   \n",
       "\n",
       "   NACCREAS  NACCREFR  ...  NACCDSMO  NACCDSDY  NACCDSYR  NACCNURP  NACCNRMO  \\\n",
       "0         1         8  ...         3         1      2010         0        88   \n",
       "1         1         8  ...         3         1      2010         0        88   \n",
       "2         1         8  ...         3         1      2010         0        88   \n",
       "3         1         8  ...         3         1      2010         0        88   \n",
       "4         1         1  ...        88        88      8888         0        88   \n",
       "\n",
       "  NACCNRDY  NACCNRYR ADGCGWAS  ADGCADSP ADGCRND  \n",
       "0       88      8888        0         0      88  \n",
       "1       88      8888        0         0      88  \n",
       "2       88      8888        0         0      88  \n",
       "3       88      8888        0         0      88  \n",
       "4       88      8888        0         0      88  \n",
       "\n",
       "[5 rows x 958 columns]"
      ]
     },
     "execution_count": 3,
     "metadata": {},
     "output_type": "execute_result"
    }
   ],
   "source": [
    "dataset.head()"
   ]
  },
  {
   "cell_type": "code",
   "execution_count": 4,
   "metadata": {},
   "outputs": [],
   "source": [
    "data12 = dataset"
   ]
  },
  {
   "cell_type": "code",
   "execution_count": 5,
   "metadata": {},
   "outputs": [
    {
     "data": {
      "text/plain": [
       "12136"
      ]
     },
     "execution_count": 5,
     "metadata": {},
     "output_type": "execute_result"
    }
   ],
   "source": [
    "len(data12[(data12['PACKET']=='I') & (data12['FORMVER'].isin([1,2])) & (data12['NACCUDSD']==4)])"
   ]
  },
  {
   "cell_type": "code",
   "execution_count": 6,
   "metadata": {},
   "outputs": [],
   "source": [
    "V12 = data12[(data12['PACKET']=='I') & (data12['FORMVER'].isin([1,2])) & (data12['NACCUDSD'].isin([1,2,3]))]"
   ]
  },
  {
   "cell_type": "code",
   "execution_count": 7,
   "metadata": {},
   "outputs": [
    {
     "data": {
      "text/html": [
       "<div>\n",
       "<style scoped>\n",
       "    .dataframe tbody tr th:only-of-type {\n",
       "        vertical-align: middle;\n",
       "    }\n",
       "\n",
       "    .dataframe tbody tr th {\n",
       "        vertical-align: top;\n",
       "    }\n",
       "\n",
       "    .dataframe thead th {\n",
       "        text-align: right;\n",
       "    }\n",
       "</style>\n",
       "<table border=\"1\" class=\"dataframe\">\n",
       "  <thead>\n",
       "    <tr style=\"text-align: right;\">\n",
       "      <th></th>\n",
       "      <th>NACCADC</th>\n",
       "      <th>NACCID</th>\n",
       "      <th>NACCVNUM</th>\n",
       "      <th>FORMVER</th>\n",
       "      <th>PACKET</th>\n",
       "      <th>VISITMO</th>\n",
       "      <th>VISITDAY</th>\n",
       "      <th>VISITYR</th>\n",
       "      <th>NACCREAS</th>\n",
       "      <th>NACCREFR</th>\n",
       "      <th>...</th>\n",
       "      <th>NACCDSMO</th>\n",
       "      <th>NACCDSDY</th>\n",
       "      <th>NACCDSYR</th>\n",
       "      <th>NACCNURP</th>\n",
       "      <th>NACCNRMO</th>\n",
       "      <th>NACCNRDY</th>\n",
       "      <th>NACCNRYR</th>\n",
       "      <th>ADGCGWAS</th>\n",
       "      <th>ADGCADSP</th>\n",
       "      <th>ADGCRND</th>\n",
       "    </tr>\n",
       "  </thead>\n",
       "  <tbody>\n",
       "    <tr>\n",
       "      <th>0</th>\n",
       "      <td>1416</td>\n",
       "      <td>NACC000011</td>\n",
       "      <td>1</td>\n",
       "      <td>1</td>\n",
       "      <td>I</td>\n",
       "      <td>4</td>\n",
       "      <td>17</td>\n",
       "      <td>2006</td>\n",
       "      <td>1</td>\n",
       "      <td>8</td>\n",
       "      <td>...</td>\n",
       "      <td>3</td>\n",
       "      <td>1</td>\n",
       "      <td>2010</td>\n",
       "      <td>0</td>\n",
       "      <td>88</td>\n",
       "      <td>88</td>\n",
       "      <td>8888</td>\n",
       "      <td>0</td>\n",
       "      <td>0</td>\n",
       "      <td>88</td>\n",
       "    </tr>\n",
       "    <tr>\n",
       "      <th>5</th>\n",
       "      <td>2096</td>\n",
       "      <td>NACC000067</td>\n",
       "      <td>1</td>\n",
       "      <td>2</td>\n",
       "      <td>I</td>\n",
       "      <td>5</td>\n",
       "      <td>23</td>\n",
       "      <td>2012</td>\n",
       "      <td>1</td>\n",
       "      <td>2</td>\n",
       "      <td>...</td>\n",
       "      <td>88</td>\n",
       "      <td>88</td>\n",
       "      <td>8888</td>\n",
       "      <td>0</td>\n",
       "      <td>88</td>\n",
       "      <td>88</td>\n",
       "      <td>8888</td>\n",
       "      <td>0</td>\n",
       "      <td>0</td>\n",
       "      <td>88</td>\n",
       "    </tr>\n",
       "    <tr>\n",
       "      <th>9</th>\n",
       "      <td>2289</td>\n",
       "      <td>NACC000144</td>\n",
       "      <td>1</td>\n",
       "      <td>2</td>\n",
       "      <td>I</td>\n",
       "      <td>8</td>\n",
       "      <td>17</td>\n",
       "      <td>2010</td>\n",
       "      <td>1</td>\n",
       "      <td>1</td>\n",
       "      <td>...</td>\n",
       "      <td>88</td>\n",
       "      <td>88</td>\n",
       "      <td>8888</td>\n",
       "      <td>0</td>\n",
       "      <td>88</td>\n",
       "      <td>88</td>\n",
       "      <td>8888</td>\n",
       "      <td>1</td>\n",
       "      <td>0</td>\n",
       "      <td>ADC 4</td>\n",
       "    </tr>\n",
       "    <tr>\n",
       "      <th>11</th>\n",
       "      <td>5452</td>\n",
       "      <td>NACC000162</td>\n",
       "      <td>1</td>\n",
       "      <td>2</td>\n",
       "      <td>I</td>\n",
       "      <td>3</td>\n",
       "      <td>10</td>\n",
       "      <td>2009</td>\n",
       "      <td>1</td>\n",
       "      <td>8</td>\n",
       "      <td>...</td>\n",
       "      <td>88</td>\n",
       "      <td>88</td>\n",
       "      <td>8888</td>\n",
       "      <td>0</td>\n",
       "      <td>88</td>\n",
       "      <td>88</td>\n",
       "      <td>8888</td>\n",
       "      <td>1</td>\n",
       "      <td>0</td>\n",
       "      <td>ADC 7</td>\n",
       "    </tr>\n",
       "    <tr>\n",
       "      <th>20</th>\n",
       "      <td>6518</td>\n",
       "      <td>NACC000225</td>\n",
       "      <td>1</td>\n",
       "      <td>2</td>\n",
       "      <td>I</td>\n",
       "      <td>9</td>\n",
       "      <td>23</td>\n",
       "      <td>2009</td>\n",
       "      <td>1</td>\n",
       "      <td>8</td>\n",
       "      <td>...</td>\n",
       "      <td>4</td>\n",
       "      <td>1</td>\n",
       "      <td>2016</td>\n",
       "      <td>0</td>\n",
       "      <td>88</td>\n",
       "      <td>88</td>\n",
       "      <td>8888</td>\n",
       "      <td>0</td>\n",
       "      <td>0</td>\n",
       "      <td>88</td>\n",
       "    </tr>\n",
       "    <tr>\n",
       "      <th>...</th>\n",
       "      <td>...</td>\n",
       "      <td>...</td>\n",
       "      <td>...</td>\n",
       "      <td>...</td>\n",
       "      <td>...</td>\n",
       "      <td>...</td>\n",
       "      <td>...</td>\n",
       "      <td>...</td>\n",
       "      <td>...</td>\n",
       "      <td>...</td>\n",
       "      <td>...</td>\n",
       "      <td>...</td>\n",
       "      <td>...</td>\n",
       "      <td>...</td>\n",
       "      <td>...</td>\n",
       "      <td>...</td>\n",
       "      <td>...</td>\n",
       "      <td>...</td>\n",
       "      <td>...</td>\n",
       "      <td>...</td>\n",
       "      <td>...</td>\n",
       "    </tr>\n",
       "    <tr>\n",
       "      <th>112690</th>\n",
       "      <td>5452</td>\n",
       "      <td>NACC999839</td>\n",
       "      <td>1</td>\n",
       "      <td>2</td>\n",
       "      <td>I</td>\n",
       "      <td>5</td>\n",
       "      <td>6</td>\n",
       "      <td>2008</td>\n",
       "      <td>1</td>\n",
       "      <td>8</td>\n",
       "      <td>...</td>\n",
       "      <td>88</td>\n",
       "      <td>88</td>\n",
       "      <td>8888</td>\n",
       "      <td>0</td>\n",
       "      <td>88</td>\n",
       "      <td>88</td>\n",
       "      <td>8888</td>\n",
       "      <td>1</td>\n",
       "      <td>0</td>\n",
       "      <td>ADC 4</td>\n",
       "    </tr>\n",
       "    <tr>\n",
       "      <th>112700</th>\n",
       "      <td>8361</td>\n",
       "      <td>NACC999854</td>\n",
       "      <td>1</td>\n",
       "      <td>1</td>\n",
       "      <td>I</td>\n",
       "      <td>8</td>\n",
       "      <td>14</td>\n",
       "      <td>2006</td>\n",
       "      <td>1</td>\n",
       "      <td>2</td>\n",
       "      <td>...</td>\n",
       "      <td>88</td>\n",
       "      <td>88</td>\n",
       "      <td>8888</td>\n",
       "      <td>0</td>\n",
       "      <td>88</td>\n",
       "      <td>88</td>\n",
       "      <td>8888</td>\n",
       "      <td>1</td>\n",
       "      <td>1</td>\n",
       "      <td>ADC 4</td>\n",
       "    </tr>\n",
       "    <tr>\n",
       "      <th>112712</th>\n",
       "      <td>8646</td>\n",
       "      <td>NACC999872</td>\n",
       "      <td>1</td>\n",
       "      <td>1</td>\n",
       "      <td>I</td>\n",
       "      <td>9</td>\n",
       "      <td>2</td>\n",
       "      <td>2005</td>\n",
       "      <td>1</td>\n",
       "      <td>1</td>\n",
       "      <td>...</td>\n",
       "      <td>88</td>\n",
       "      <td>88</td>\n",
       "      <td>8888</td>\n",
       "      <td>0</td>\n",
       "      <td>88</td>\n",
       "      <td>88</td>\n",
       "      <td>8888</td>\n",
       "      <td>1</td>\n",
       "      <td>0</td>\n",
       "      <td>ADC 3</td>\n",
       "    </tr>\n",
       "    <tr>\n",
       "      <th>112715</th>\n",
       "      <td>2578</td>\n",
       "      <td>NACC999922</td>\n",
       "      <td>1</td>\n",
       "      <td>2</td>\n",
       "      <td>I</td>\n",
       "      <td>8</td>\n",
       "      <td>7</td>\n",
       "      <td>2012</td>\n",
       "      <td>1</td>\n",
       "      <td>1</td>\n",
       "      <td>...</td>\n",
       "      <td>7</td>\n",
       "      <td>28</td>\n",
       "      <td>2014</td>\n",
       "      <td>0</td>\n",
       "      <td>88</td>\n",
       "      <td>88</td>\n",
       "      <td>8888</td>\n",
       "      <td>0</td>\n",
       "      <td>0</td>\n",
       "      <td>88</td>\n",
       "    </tr>\n",
       "    <tr>\n",
       "      <th>112718</th>\n",
       "      <td>2578</td>\n",
       "      <td>NACC999969</td>\n",
       "      <td>1</td>\n",
       "      <td>2</td>\n",
       "      <td>I</td>\n",
       "      <td>11</td>\n",
       "      <td>2</td>\n",
       "      <td>2009</td>\n",
       "      <td>2</td>\n",
       "      <td>8</td>\n",
       "      <td>...</td>\n",
       "      <td>12</td>\n",
       "      <td>6</td>\n",
       "      <td>2011</td>\n",
       "      <td>0</td>\n",
       "      <td>88</td>\n",
       "      <td>88</td>\n",
       "      <td>8888</td>\n",
       "      <td>0</td>\n",
       "      <td>0</td>\n",
       "      <td>88</td>\n",
       "    </tr>\n",
       "  </tbody>\n",
       "</table>\n",
       "<p>20437 rows × 958 columns</p>\n",
       "</div>"
      ],
      "text/plain": [
       "        NACCADC      NACCID  NACCVNUM  FORMVER PACKET  VISITMO  VISITDAY  \\\n",
       "0          1416  NACC000011         1        1      I        4        17   \n",
       "5          2096  NACC000067         1        2      I        5        23   \n",
       "9          2289  NACC000144         1        2      I        8        17   \n",
       "11         5452  NACC000162         1        2      I        3        10   \n",
       "20         6518  NACC000225         1        2      I        9        23   \n",
       "...         ...         ...       ...      ...    ...      ...       ...   \n",
       "112690     5452  NACC999839         1        2      I        5         6   \n",
       "112700     8361  NACC999854         1        1      I        8        14   \n",
       "112712     8646  NACC999872         1        1      I        9         2   \n",
       "112715     2578  NACC999922         1        2      I        8         7   \n",
       "112718     2578  NACC999969         1        2      I       11         2   \n",
       "\n",
       "        VISITYR  NACCREAS  NACCREFR  ...  NACCDSMO  NACCDSDY  NACCDSYR  \\\n",
       "0          2006         1         8  ...         3         1      2010   \n",
       "5          2012         1         2  ...        88        88      8888   \n",
       "9          2010         1         1  ...        88        88      8888   \n",
       "11         2009         1         8  ...        88        88      8888   \n",
       "20         2009         1         8  ...         4         1      2016   \n",
       "...         ...       ...       ...  ...       ...       ...       ...   \n",
       "112690     2008         1         8  ...        88        88      8888   \n",
       "112700     2006         1         2  ...        88        88      8888   \n",
       "112712     2005         1         1  ...        88        88      8888   \n",
       "112715     2012         1         1  ...         7        28      2014   \n",
       "112718     2009         2         8  ...        12         6      2011   \n",
       "\n",
       "        NACCNURP  NACCNRMO NACCNRDY  NACCNRYR ADGCGWAS  ADGCADSP ADGCRND  \n",
       "0              0        88       88      8888        0         0      88  \n",
       "5              0        88       88      8888        0         0      88  \n",
       "9              0        88       88      8888        1         0   ADC 4  \n",
       "11             0        88       88      8888        1         0   ADC 7  \n",
       "20             0        88       88      8888        0         0      88  \n",
       "...          ...       ...      ...       ...      ...       ...     ...  \n",
       "112690         0        88       88      8888        1         0   ADC 4  \n",
       "112700         0        88       88      8888        1         1   ADC 4  \n",
       "112712         0        88       88      8888        1         0   ADC 3  \n",
       "112715         0        88       88      8888        0         0      88  \n",
       "112718         0        88       88      8888        0         0      88  \n",
       "\n",
       "[20437 rows x 958 columns]"
      ]
     },
     "execution_count": 7,
     "metadata": {},
     "output_type": "execute_result"
    }
   ],
   "source": [
    "V12"
   ]
  },
  {
   "cell_type": "markdown",
   "metadata": {},
   "source": [
    "### Use patient id, 'NACCID', to find outcome at 1 and 2 years"
   ]
  },
  {
   "cell_type": "code",
   "execution_count": 8,
   "metadata": {},
   "outputs": [],
   "source": [
    "def calculate_months(year1, month1, year, month):\n",
    "    return (year-year1)*12 + (month-month1)"
   ]
  },
  {
   "cell_type": "code",
   "execution_count": 9,
   "metadata": {},
   "outputs": [],
   "source": [
    "def find_cause(data, columns):\n",
    "    \n",
    "    loc = np.where(data==1)[0]\n",
    "    \n",
    "    if len(loc)==0:\n",
    "        \n",
    "        return -1\n",
    "    \n",
    "    else:\n",
    "        \n",
    "        return columns[loc[0]]    "
   ]
  },
  {
   "cell_type": "code",
   "execution_count": 10,
   "metadata": {},
   "outputs": [],
   "source": [
    "diagnosis_fields = ['NACCALZD', 'NACCLBDE', 'VASC']"
   ]
  },
  {
   "cell_type": "code",
   "execution_count": 11,
   "metadata": {},
   "outputs": [],
   "source": [
    "V12_id = V12['NACCID'].values"
   ]
  },
  {
   "cell_type": "code",
   "execution_count": 12,
   "metadata": {},
   "outputs": [
    {
     "name": "stdout",
     "output_type": "stream",
     "text": [
      "CPU times: user 5min 46s, sys: 684 ms, total: 5min 46s\n",
      "Wall time: 5min 47s\n"
     ]
    }
   ],
   "source": [
    "%%time\n",
    "\n",
    "V12_outcome, V12_used, V12_months, V12_cause, V12_whodid = [],[],[],[],[]\n",
    "\n",
    "count=0\n",
    "count2=0\n",
    "\n",
    "for patient in V12_id:\n",
    "    \n",
    "    outcomes = data12[(data12['NACCID']==patient) & (data12['NACCVNUM'].isin([2,3]))]\n",
    "    \n",
    "    if len(outcomes)==0:\n",
    "        \n",
    "        count+=1\n",
    "        \n",
    "        continue\n",
    "    \n",
    "    else:\n",
    "        \n",
    "        year0 = data12[(data12['NACCID']==patient) & (data12['NACCVNUM']==1)]['VISITYR'].values[0]\n",
    "        month0 = data12[(data12['NACCID']==patient) & (data12['NACCVNUM']==1)]['VISITMO'].values[0]\n",
    "        \n",
    "            \n",
    "        loc = 0\n",
    "        value = outcomes['NACCUDSD'].values[0]\n",
    "            \n",
    "        year1 = outcomes['VISITYR'].values[loc]\n",
    "        month1 = outcomes['VISITMO'].values[loc]\n",
    "            \n",
    "        months = calculate_months(year0, month0, year1, month1) \n",
    "            \n",
    "        if months>29:\n",
    "            \n",
    "            count2+=1\n",
    "                \n",
    "            continue\n",
    "                \n",
    "        diagnosis = value\n",
    "                \n",
    "        if diagnosis==4:\n",
    "            \n",
    "            V12_outcome.append(1)\n",
    "            V12_months.append(months)\n",
    "            V12_used.append(patient)\n",
    "            V12_cause.append(find_cause(outcomes[diagnosis_fields].values[loc],diagnosis_fields))\n",
    "            V12_whodid.append(outcomes['WHODIDDX'].values[loc])\n",
    "            \n",
    "            continue\n",
    "                    \n",
    "        elif len(outcomes)>1:\n",
    "                    \n",
    "            year2 = outcomes['VISITYR'].values[loc+1]\n",
    "            month2 = outcomes['VISITMO'].values[loc+1]\n",
    "\n",
    "            months2 = calculate_months(year0, month0, year2, month2) \n",
    "            \n",
    "            if months2<=29:\n",
    "                    \n",
    "                diagnosis = outcomes['NACCUDSD'].values[loc+1]\n",
    "                        \n",
    "                if diagnosis==4:\n",
    "            \n",
    "                    V12_outcome.append(1)\n",
    "                    V12_months.append(months2)\n",
    "                    V12_used.append(patient)\n",
    "                    V12_cause.append(find_cause(outcomes[diagnosis_fields].values[loc+1],diagnosis_fields))\n",
    "                    V12_whodid.append(outcomes['WHODIDDX'].values[loc+1])\n",
    "                    continue\n",
    "                        \n",
    "                else:\n",
    "                    V12_outcome.append(0)\n",
    "                    V12_months.append(months2)\n",
    "                    V12_used.append(patient)\n",
    "                    V12_whodid.append(outcomes['WHODIDDX'].values[loc+1])\n",
    "                    V12_cause.append(0)\n",
    "                            \n",
    "            else:\n",
    "\n",
    "                V12_outcome.append(0)\n",
    "                V12_months.append(months)\n",
    "                V12_used.append(patient)\n",
    "                V12_whodid.append(outcomes['WHODIDDX'].values[loc])\n",
    "                V12_cause.append(0)\n",
    "                        \n",
    "        else:\n",
    "                    \n",
    "            V12_outcome.append(0)\n",
    "            V12_months.append(months)\n",
    "            V12_used.append(patient)\n",
    "            V12_whodid.append(outcomes['WHODIDDX'].values[loc])\n",
    "            V12_cause.append(0)\n",
    "                        \n",
    "\n",
    "\n",
    "            \n",
    "        \n"
   ]
  },
  {
   "cell_type": "code",
   "execution_count": 13,
   "metadata": {},
   "outputs": [
    {
     "data": {
      "text/plain": [
       "12375"
      ]
     },
     "execution_count": 13,
     "metadata": {},
     "output_type": "execute_result"
    }
   ],
   "source": [
    "initial = data12[(data12['NACCVNUM']==1)]\n",
    "\n",
    "len(initial[initial['NACCUDSD']==4])"
   ]
  },
  {
   "cell_type": "code",
   "execution_count": 14,
   "metadata": {},
   "outputs": [
    {
     "name": "stdout",
     "output_type": "stream",
     "text": [
      "Number of patients with no follow-up: 4557\n",
      "Number of patients with first follow-up outside of time window: 573\n"
     ]
    }
   ],
   "source": [
    "print('Number of patients with no follow-up: {0}'.format(count))\n",
    "\n",
    "print('Number of patients with first follow-up outside of time window: {0}'.format(count2))"
   ]
  },
  {
   "cell_type": "code",
   "execution_count": 15,
   "metadata": {},
   "outputs": [],
   "source": [
    "np.save('outcome_causes.npy', V12_cause)\n",
    "np.save('who_diagnosed.npy', V12_whodid)"
   ]
  },
  {
   "cell_type": "markdown",
   "metadata": {},
   "source": [
    "### Who (1 = single, 2=consensus) "
   ]
  },
  {
   "cell_type": "code",
   "execution_count": 16,
   "metadata": {},
   "outputs": [],
   "source": [
    "single = sum([1 for i,w in enumerate(V12_whodid) if w==1 and V12_outcome[i]==1])\n",
    "consensus = sum([1 for i,w in enumerate(V12_whodid) if w==2 and V12_outcome[i]==1])"
   ]
  },
  {
   "cell_type": "code",
   "execution_count": 17,
   "metadata": {},
   "outputs": [
    {
     "data": {
      "text/plain": [
       "(273, 0.17410714285714285)"
      ]
     },
     "execution_count": 17,
     "metadata": {},
     "output_type": "execute_result"
    }
   ],
   "source": [
    "single, single/sum(V12_outcome)"
   ]
  },
  {
   "cell_type": "code",
   "execution_count": 18,
   "metadata": {},
   "outputs": [
    {
     "data": {
      "text/plain": [
       "(1216, 0.7755102040816326)"
      ]
     },
     "execution_count": 18,
     "metadata": {},
     "output_type": "execute_result"
    }
   ],
   "source": [
    "consensus, consensus/sum(V12_outcome)"
   ]
  },
  {
   "cell_type": "code",
   "execution_count": 19,
   "metadata": {},
   "outputs": [
    {
     "data": {
      "text/plain": [
       "79"
      ]
     },
     "execution_count": 19,
     "metadata": {},
     "output_type": "execute_result"
    }
   ],
   "source": [
    "sum([1 for i,w in enumerate(V12_whodid) if w==-4 and V12_outcome[i]==1])"
   ]
  },
  {
   "cell_type": "markdown",
   "metadata": {},
   "source": [
    "### Combine outcomes with processed data "
   ]
  },
  {
   "cell_type": "code",
   "execution_count": 20,
   "metadata": {},
   "outputs": [
    {
     "data": {
      "text/plain": [
       "(15307, 15307)"
      ]
     },
     "execution_count": 20,
     "metadata": {},
     "output_type": "execute_result"
    }
   ],
   "source": [
    "V12_cleaned = pd.read_csv('UDSDataV12.csv', low_memory=False)\n",
    "V12_cleaned = V12_cleaned[V12_cleaned['NACCID'].isin(V12_used)]\n",
    "\n",
    "sum(V12_cleaned['NACCID'].values == V12_used), len(V12_outcome)"
   ]
  },
  {
   "cell_type": "code",
   "execution_count": 21,
   "metadata": {},
   "outputs": [],
   "source": [
    "V12_cleaned.drop(['NACCID', 'FORMVER', 'VISIT_DATE', 'NACCVNUM'], axis=1, inplace=True)"
   ]
  },
  {
   "cell_type": "markdown",
   "metadata": {},
   "source": [
    "### Add 4 randomly distributed variables "
   ]
  },
  {
   "cell_type": "code",
   "execution_count": 22,
   "metadata": {},
   "outputs": [],
   "source": [
    "for i in range(1):\n",
    "    \n",
    "    var_name = f'RANDVAR_{i}'\n",
    "    \n",
    "    var_val = np.random.normal(np.random.randint(10), np.random.randint(1,5), len(V12_cleaned))\n",
    "    \n",
    "    V12_cleaned[var_name] = var_val\n",
    "    \n",
    "for i,var_shuffle in enumerate(['CDRSUM', 'INSEX', 'TRAILB_PROB']):\n",
    "    \n",
    "    var_name = f'RANDVAR_{i+1}'\n",
    "    \n",
    "    vals = V12_cleaned[var_shuffle].values\n",
    "    \n",
    "    var_val = np.random.permutation(vals)\n",
    "    \n",
    "    V12_cleaned[var_name] = var_val"
   ]
  },
  {
   "cell_type": "markdown",
   "metadata": {},
   "source": [
    "## Population characteristics "
   ]
  },
  {
   "cell_type": "code",
   "execution_count": 23,
   "metadata": {},
   "outputs": [],
   "source": [
    "dementia_loc = np.array([i for i,v in enumerate(V12_outcome) if v==1])\n",
    "nc_loc = np.array([i for i,v in enumerate(V12_outcome) if v==0])"
   ]
  },
  {
   "cell_type": "markdown",
   "metadata": {},
   "source": [
    "#### Race"
   ]
  },
  {
   "cell_type": "code",
   "execution_count": 24,
   "metadata": {},
   "outputs": [],
   "source": [
    "nodem = [v for i,v in enumerate(V12_used) if V12_outcome[i]==0]\n",
    "dem = [v for i,v in enumerate(V12_used) if V12_outcome[i]==1]\n",
    "\n",
    "original_nodem = data12[(data12['NACCID'].isin(nodem)) & (data12['NACCVNUM']==1)] \n",
    "original_dem = data12[(data12['NACCID'].isin(dem)) & (data12['NACCVNUM']==1)] "
   ]
  },
  {
   "cell_type": "code",
   "execution_count": 25,
   "metadata": {},
   "outputs": [
    {
     "data": {
      "text/plain": [
       "(221, 0.14094387755102042)"
      ]
     },
     "execution_count": 25,
     "metadata": {},
     "output_type": "execute_result"
    }
   ],
   "source": [
    "non_white = [1 if v in [2,3,4,5,50] else 0 for v in original_dem['RACE'].values]\n",
    "\n",
    "sum(non_white), sum(non_white)/len(non_white)"
   ]
  },
  {
   "cell_type": "markdown",
   "metadata": {},
   "source": [
    "#### Independence "
   ]
  },
  {
   "cell_type": "code",
   "execution_count": 26,
   "metadata": {},
   "outputs": [
    {
     "data": {
      "text/plain": [
       "(927, 0.06747215954581848)"
      ]
     },
     "execution_count": 26,
     "metadata": {},
     "output_type": "execute_result"
    }
   ],
   "source": [
    "dependant = [1 if v in [2,3,4] else 0 for v in original_nodem['INDEPEND'].values]\n",
    "\n",
    "sum(dependant), sum(dependant)/len(dependant)"
   ]
  },
  {
   "cell_type": "markdown",
   "metadata": {},
   "source": [
    "#### Age "
   ]
  },
  {
   "cell_type": "code",
   "execution_count": 27,
   "metadata": {},
   "outputs": [
    {
     "data": {
      "text/plain": [
       "(72.31965767296009, 9.82669755200655)"
      ]
     },
     "execution_count": 27,
     "metadata": {},
     "output_type": "execute_result"
    }
   ],
   "source": [
    "V12_cleaned['NACCAGE'].values.mean(), V12_cleaned['NACCAGE'].values.std(), "
   ]
  },
  {
   "cell_type": "markdown",
   "metadata": {},
   "source": [
    "#### Gender "
   ]
  },
  {
   "cell_type": "code",
   "execution_count": 28,
   "metadata": {},
   "outputs": [
    {
     "data": {
      "text/plain": [
       "(5376, 0.39129485406507025)"
      ]
     },
     "execution_count": 28,
     "metadata": {},
     "output_type": "execute_result"
    }
   ],
   "source": [
    "sum([1 for v in V12_cleaned['SEX'].values[nc_loc] if v==1]), sum([1 for v in V12_cleaned['SEX'].values[nc_loc] if v==1])/len(nc_loc)"
   ]
  },
  {
   "cell_type": "markdown",
   "metadata": {},
   "source": [
    "#### Language "
   ]
  },
  {
   "cell_type": "code",
   "execution_count": 29,
   "metadata": {},
   "outputs": [
    {
     "data": {
      "text/plain": [
       "(1471, 0.9381377551020408)"
      ]
     },
     "execution_count": 29,
     "metadata": {},
     "output_type": "execute_result"
    }
   ],
   "source": [
    "sum([1 for v in V12_cleaned['PRIMLANG'].values[dementia_loc] if v==1]), sum([1 for v in V12_cleaned['PRIMLANG'].values[dementia_loc] if v==1])/len(dementia_loc)"
   ]
  },
  {
   "cell_type": "code",
   "execution_count": 30,
   "metadata": {},
   "outputs": [
    {
     "data": {
      "text/plain": [
       "(12823, 0.9333284809665915)"
      ]
     },
     "execution_count": 30,
     "metadata": {},
     "output_type": "execute_result"
    }
   ],
   "source": [
    "sum([1 for v in V12_cleaned['PRIMLANG'].values[nc_loc] if v==1]), sum([1 for v in V12_cleaned['PRIMLANG'].values[nc_loc] if v==1])/len(nc_loc)"
   ]
  },
  {
   "cell_type": "markdown",
   "metadata": {},
   "source": [
    "#### Education "
   ]
  },
  {
   "cell_type": "code",
   "execution_count": 31,
   "metadata": {},
   "outputs": [
    {
     "data": {
      "text/plain": [
       "(15.502813710443617, 3.186734380521302)"
      ]
     },
     "execution_count": 31,
     "metadata": {},
     "output_type": "execute_result"
    }
   ],
   "source": [
    "np.array([v for v in V12_cleaned['EDUC'].values[nc_loc] if not pd.isnull(v)]).mean(), np.array([v for v in V12_cleaned['EDUC'].values[nc_loc] if not pd.isnull(v)]).std()"
   ]
  },
  {
   "cell_type": "code",
   "execution_count": 32,
   "metadata": {},
   "outputs": [
    {
     "data": {
      "text/plain": [
       "(15.312020460358056, 3.3073325897037344)"
      ]
     },
     "execution_count": 32,
     "metadata": {},
     "output_type": "execute_result"
    }
   ],
   "source": [
    "np.array([v for v in V12_cleaned['EDUC'].values[dementia_loc] if not pd.isnull(v)]).mean(), np.array([v for v in V12_cleaned['EDUC'].values[dementia_loc] if not pd.isnull(v)]).std()"
   ]
  },
  {
   "cell_type": "markdown",
   "metadata": {},
   "source": [
    "#### CDR sum "
   ]
  },
  {
   "cell_type": "code",
   "execution_count": 33,
   "metadata": {},
   "outputs": [
    {
     "data": {
      "text/plain": [
       "1.5"
      ]
     },
     "execution_count": 33,
     "metadata": {},
     "output_type": "execute_result"
    }
   ],
   "source": [
    "np.median([v for v in V12_cleaned['CDRSUM'].values[dementia_loc] if not pd.isnull(v)])"
   ]
  },
  {
   "cell_type": "code",
   "execution_count": 34,
   "metadata": {},
   "outputs": [
    {
     "data": {
      "text/plain": [
       "array([1. , 2.5])"
      ]
     },
     "execution_count": 34,
     "metadata": {},
     "output_type": "execute_result"
    }
   ],
   "source": [
    "np.percentile([v for v in V12_cleaned['CDRSUM'].values[dementia_loc] if not pd.isnull(v)], [25,75])"
   ]
  },
  {
   "cell_type": "code",
   "execution_count": 35,
   "metadata": {},
   "outputs": [
    {
     "data": {
      "text/plain": [
       "array([0. , 0.5])"
      ]
     },
     "execution_count": 35,
     "metadata": {},
     "output_type": "execute_result"
    }
   ],
   "source": [
    "np.percentile([v for v in V12_cleaned['CDRSUM'].values[nc_loc] if not pd.isnull(v)], [25,75])"
   ]
  },
  {
   "cell_type": "markdown",
   "metadata": {},
   "source": [
    "#### DECCLIN "
   ]
  },
  {
   "cell_type": "code",
   "execution_count": 36,
   "metadata": {},
   "outputs": [
    {
     "data": {
      "text/plain": [
       "9918"
      ]
     },
     "execution_count": 36,
     "metadata": {},
     "output_type": "execute_result"
    }
   ],
   "source": [
    "sum([1 for v in V12_cleaned['DECCLIN'].values[nc_loc] if v==0])"
   ]
  },
  {
   "cell_type": "code",
   "execution_count": 37,
   "metadata": {},
   "outputs": [
    {
     "data": {
      "text/plain": [
       "0.7218866001892423"
      ]
     },
     "execution_count": 37,
     "metadata": {},
     "output_type": "execute_result"
    }
   ],
   "source": [
    "sum([1 for v in V12_cleaned['DECCLIN'].values[nc_loc] if v==0])/len(nc_loc)"
   ]
  },
  {
   "cell_type": "markdown",
   "metadata": {},
   "source": [
    "#### ANIMALS "
   ]
  },
  {
   "cell_type": "code",
   "execution_count": 38,
   "metadata": {},
   "outputs": [
    {
     "data": {
      "text/plain": [
       "19.18694204872144"
      ]
     },
     "execution_count": 38,
     "metadata": {},
     "output_type": "execute_result"
    }
   ],
   "source": [
    "np.array([v for v in V12_cleaned['ANIMALS'].values[nc_loc] if not pd.isnull(v)]).mean()"
   ]
  },
  {
   "cell_type": "code",
   "execution_count": 39,
   "metadata": {},
   "outputs": [
    {
     "data": {
      "text/plain": [
       "5.700691772464361"
      ]
     },
     "execution_count": 39,
     "metadata": {},
     "output_type": "execute_result"
    }
   ],
   "source": [
    " np.array([v for v in V12_cleaned['ANIMALS'].values[nc_loc] if not pd.isnull(v)]).std()"
   ]
  },
  {
   "cell_type": "markdown",
   "metadata": {},
   "source": [
    "#### Trail B "
   ]
  },
  {
   "cell_type": "code",
   "execution_count": 40,
   "metadata": {},
   "outputs": [
    {
     "data": {
      "text/plain": [
       "160.7271418286537"
      ]
     },
     "execution_count": 40,
     "metadata": {},
     "output_type": "execute_result"
    }
   ],
   "source": [
    "np.array([v for v in V12_cleaned['TRAILB'].values[dementia_loc] if not pd.isnull(v)]).mean()"
   ]
  },
  {
   "cell_type": "code",
   "execution_count": 41,
   "metadata": {},
   "outputs": [
    {
     "data": {
      "text/plain": [
       "80.96926145617324"
      ]
     },
     "execution_count": 41,
     "metadata": {},
     "output_type": "execute_result"
    }
   ],
   "source": [
    " np.array([v for v in V12_cleaned['TRAILB'].values[dementia_loc] if not pd.isnull(v)]).std()"
   ]
  },
  {
   "cell_type": "markdown",
   "metadata": {},
   "source": [
    "#### VEG "
   ]
  },
  {
   "cell_type": "code",
   "execution_count": 42,
   "metadata": {},
   "outputs": [
    {
     "data": {
      "text/plain": [
       "13.837664322837053"
      ]
     },
     "execution_count": 42,
     "metadata": {},
     "output_type": "execute_result"
    }
   ],
   "source": [
    "np.array([v for v in V12_cleaned['VEG'].values[nc_loc] if not pd.isnull(v)]).mean()"
   ]
  },
  {
   "cell_type": "code",
   "execution_count": 43,
   "metadata": {},
   "outputs": [
    {
     "data": {
      "text/plain": [
       "4.3593477839727806"
      ]
     },
     "execution_count": 43,
     "metadata": {},
     "output_type": "execute_result"
    }
   ],
   "source": [
    " np.array([v for v in V12_cleaned['VEG'].values[nc_loc] if not pd.isnull(v)]).std()"
   ]
  },
  {
   "cell_type": "markdown",
   "metadata": {},
   "source": [
    "#### MEMUNITS"
   ]
  },
  {
   "cell_type": "code",
   "execution_count": 44,
   "metadata": {},
   "outputs": [
    {
     "data": {
      "text/plain": [
       "4.8852798894264"
      ]
     },
     "execution_count": 44,
     "metadata": {},
     "output_type": "execute_result"
    }
   ],
   "source": [
    "np.array([v for v in V12_cleaned['MEMUNITS'].values[dementia_loc] if not pd.isnull(v)]).mean()"
   ]
  },
  {
   "cell_type": "code",
   "execution_count": 45,
   "metadata": {},
   "outputs": [
    {
     "data": {
      "text/plain": [
       "4.227706394212267"
      ]
     },
     "execution_count": 45,
     "metadata": {},
     "output_type": "execute_result"
    }
   ],
   "source": [
    " np.array([v for v in V12_cleaned['MEMUNITS'].values[dementia_loc] if not pd.isnull(v)]).std()"
   ]
  },
  {
   "cell_type": "markdown",
   "metadata": {},
   "source": [
    "#### MMSE"
   ]
  },
  {
   "cell_type": "code",
   "execution_count": 46,
   "metadata": {},
   "outputs": [
    {
     "data": {
      "text/plain": [
       "28.517761520476657"
      ]
     },
     "execution_count": 46,
     "metadata": {},
     "output_type": "execute_result"
    }
   ],
   "source": [
    "np.array([v for v in V12_cleaned['NACCMMSE'].values[nc_loc] if not pd.isnull(v)]).mean()"
   ]
  },
  {
   "cell_type": "code",
   "execution_count": 47,
   "metadata": {},
   "outputs": [
    {
     "data": {
      "text/plain": [
       "1.7891445793481804"
      ]
     },
     "execution_count": 47,
     "metadata": {},
     "output_type": "execute_result"
    }
   ],
   "source": [
    " np.array([v for v in V12_cleaned['NACCMMSE'].values[nc_loc] if not pd.isnull(v)]).std()"
   ]
  },
  {
   "cell_type": "markdown",
   "metadata": {},
   "source": [
    "#### ORIENT "
   ]
  },
  {
   "cell_type": "code",
   "execution_count": 48,
   "metadata": {},
   "outputs": [
    {
     "data": {
      "text/plain": [
       "12626"
      ]
     },
     "execution_count": 48,
     "metadata": {},
     "output_type": "execute_result"
    }
   ],
   "source": [
    "sum([1 for v in V12_cleaned['ORIENT'].values[nc_loc] if v==0])"
   ]
  },
  {
   "cell_type": "code",
   "execution_count": 49,
   "metadata": {},
   "outputs": [
    {
     "data": {
      "text/plain": [
       "0.918989737244341"
      ]
     },
     "execution_count": 49,
     "metadata": {},
     "output_type": "execute_result"
    }
   ],
   "source": [
    "sum([1 for v in V12_cleaned['ORIENT'].values[nc_loc] if v==0])/len(nc_loc)"
   ]
  },
  {
   "cell_type": "markdown",
   "metadata": {},
   "source": [
    "#### WAIS"
   ]
  },
  {
   "cell_type": "code",
   "execution_count": 50,
   "metadata": {},
   "outputs": [
    {
     "data": {
      "text/plain": [
       "33.61023054755043"
      ]
     },
     "execution_count": 50,
     "metadata": {},
     "output_type": "execute_result"
    }
   ],
   "source": [
    "np.array([v for v in V12_cleaned['WAIS'].values[dementia_loc] if not pd.isnull(v)]).mean()"
   ]
  },
  {
   "cell_type": "code",
   "execution_count": 51,
   "metadata": {},
   "outputs": [
    {
     "data": {
      "text/plain": [
       "11.765177662166948"
      ]
     },
     "execution_count": 51,
     "metadata": {},
     "output_type": "execute_result"
    }
   ],
   "source": [
    " np.array([v for v in V12_cleaned['WAIS'].values[dementia_loc] if not pd.isnull(v)]).std()"
   ]
  },
  {
   "cell_type": "markdown",
   "metadata": {},
   "source": [
    "#### LOGIMEM"
   ]
  },
  {
   "cell_type": "code",
   "execution_count": 52,
   "metadata": {},
   "outputs": [
    {
     "data": {
      "text/plain": [
       "12.546547236257847"
      ]
     },
     "execution_count": 52,
     "metadata": {},
     "output_type": "execute_result"
    }
   ],
   "source": [
    "np.array([v for v in V12_cleaned['LOGIMEM'].values[nc_loc] if not pd.isnull(v)]).mean()"
   ]
  },
  {
   "cell_type": "code",
   "execution_count": 53,
   "metadata": {},
   "outputs": [
    {
     "data": {
      "text/plain": [
       "4.219273167306765"
      ]
     },
     "execution_count": 53,
     "metadata": {},
     "output_type": "execute_result"
    }
   ],
   "source": [
    " np.array([v for v in V12_cleaned['LOGIMEM'].values[nc_loc] if not pd.isnull(v)]).std()"
   ]
  },
  {
   "cell_type": "markdown",
   "metadata": {},
   "source": [
    "## Missingness "
   ]
  },
  {
   "cell_type": "code",
   "execution_count": 54,
   "metadata": {},
   "outputs": [
    {
     "name": "stdout",
     "output_type": "stream",
     "text": [
      "Number of variables with missing for at least one person: 239\n"
     ]
    }
   ],
   "source": [
    "varmiss=0\n",
    "for var_ind in range(V12_cleaned.shape[1]):\n",
    "\n",
    "    variable = V12_cleaned.values[:,var_ind]\n",
    "\n",
    "        #variable = np.array(variable)\n",
    "    if np.sum(pd.isnull(variable))>0:\n",
    "        \n",
    "        varmiss+=1\n",
    "\n",
    "print('Number of variables with missing for at least one person: {0}'.format(varmiss))"
   ]
  },
  {
   "cell_type": "code",
   "execution_count": 55,
   "metadata": {},
   "outputs": [
    {
     "data": {
      "text/plain": [
       "92.63565891472868"
      ]
     },
     "execution_count": 55,
     "metadata": {},
     "output_type": "execute_result"
    }
   ],
   "source": [
    "239*100/V12_cleaned.shape[1]"
   ]
  },
  {
   "cell_type": "code",
   "execution_count": 56,
   "metadata": {},
   "outputs": [],
   "source": [
    "personmiss=[]\n",
    "\n",
    "for row in V12_cleaned.values:\n",
    "    \n",
    "    nmiss = sum(np.isnan(row))*100/len(row)\n",
    "    \n",
    "    personmiss.append(nmiss)"
   ]
  },
  {
   "cell_type": "code",
   "execution_count": 57,
   "metadata": {},
   "outputs": [
    {
     "name": "stdout",
     "output_type": "stream",
     "text": [
      "Participant missingness: \n",
      " mean 14.82809455875434 \n",
      " std 6.51483554062633 \n",
      " median 13.178294573643411 \n",
      " IQR [12.01550388 14.34108527]\n"
     ]
    }
   ],
   "source": [
    "print('Participant missingness: \\n mean {0} \\n std {1} \\n median {2} \\n IQR {3}'.format(np.mean(personmiss), np.std(personmiss), np.median(personmiss), np.percentile(personmiss, [25,75])))"
   ]
  },
  {
   "cell_type": "code",
   "execution_count": 58,
   "metadata": {},
   "outputs": [],
   "source": [
    "key_vars = ['MEMORY', 'TRAILB', 'DECCLIN', 'ORIENT', 'HOMEHOBB', 'INDEPEND']"
   ]
  },
  {
   "cell_type": "code",
   "execution_count": 59,
   "metadata": {},
   "outputs": [],
   "source": [
    "key_data = V12_cleaned[key_vars]"
   ]
  },
  {
   "cell_type": "code",
   "execution_count": 60,
   "metadata": {},
   "outputs": [],
   "source": [
    "personmiss=[]\n",
    "\n",
    "for row in key_data.values:\n",
    "    \n",
    "    nmiss = sum(np.isnan(row))*100/len(row)\n",
    "    \n",
    "    personmiss.append(nmiss)\n",
    "    \n",
    "personmiss = np.array(personmiss)"
   ]
  },
  {
   "cell_type": "code",
   "execution_count": 61,
   "metadata": {},
   "outputs": [
    {
     "name": "stdout",
     "output_type": "stream",
     "text": [
      "Participant missingness: \n",
      " mean 1.132379521351887 \n",
      " std 4.207088219711842 \n",
      " median 0.0 \n",
      " IQR [0. 0.]\n"
     ]
    }
   ],
   "source": [
    "print('Participant missingness: \\n mean {0} \\n std {1} \\n median {2} \\n IQR {3}'.format(np.mean(personmiss), np.std(personmiss), np.median(personmiss), np.percentile(personmiss, [25,75])))"
   ]
  },
  {
   "cell_type": "code",
   "execution_count": 62,
   "metadata": {},
   "outputs": [
    {
     "data": {
      "text/plain": [
       "1037"
      ]
     },
     "execution_count": 62,
     "metadata": {},
     "output_type": "execute_result"
    }
   ],
   "source": [
    "len(personmiss[personmiss>0])"
   ]
  },
  {
   "cell_type": "code",
   "execution_count": 63,
   "metadata": {},
   "outputs": [
    {
     "name": "stdout",
     "output_type": "stream",
     "text": [
      "Number of variables with missing for at least one person: 0.011323795213518869 0.02456898250462427\n"
     ]
    }
   ],
   "source": [
    "varmiss=[]\n",
    "for var_ind in range(key_data.shape[1]):\n",
    "\n",
    "    variable = key_data.values[:,var_ind]\n",
    "\n",
    "        #variable = np.array(variable)\n",
    "    varmiss.append(np.sum(pd.isnull(variable))/key_data.shape[0])\n",
    "\n",
    "\n",
    "print('Number of variables with missing for at least one person: {0} {1}'.format(np.mean(varmiss), np.std(varmiss)))"
   ]
  },
  {
   "cell_type": "markdown",
   "metadata": {},
   "source": [
    "### Impute "
   ]
  },
  {
   "cell_type": "code",
   "execution_count": 64,
   "metadata": {},
   "outputs": [],
   "source": [
    "def impute(raw_data):\n",
    "    \n",
    "    data = raw_data.copy()\n",
    "\n",
    "    for var_ind in range(data.shape[1]):\n",
    "\n",
    "        variable = data[:,var_ind]\n",
    "\n",
    "        #variable = np.array(variable)\n",
    "        if np.sum(pd.isnull(variable))>0:\n",
    "\n",
    "            #print(var_ind)\n",
    "\n",
    "            sample = variable[~pd.isnull(variable)]\n",
    "            replace_vals = np.random.choice(sample, np.sum(pd.isnull(variable)), replace=True)\n",
    "            variable[pd.isnull(variable)] = replace_vals\n",
    "\n",
    "            data[:,var_ind] = variable\n",
    "            \n",
    "    return data"
   ]
  },
  {
   "cell_type": "code",
   "execution_count": 65,
   "metadata": {},
   "outputs": [],
   "source": [
    "V12_cleaned_imputed = impute(V12_cleaned.values)"
   ]
  },
  {
   "cell_type": "markdown",
   "metadata": {},
   "source": [
    "### Save data "
   ]
  },
  {
   "cell_type": "code",
   "execution_count": 66,
   "metadata": {},
   "outputs": [],
   "source": [
    "import pickle\n",
    "\n",
    "with open('processed_data.pkl', 'wb') as f:\n",
    "    \n",
    "    pickle.dump([V12_cleaned_imputed, V12_cleaned.columns.values, \n",
    "                 V12_outcome], f)"
   ]
  },
  {
   "cell_type": "code",
   "execution_count": 67,
   "metadata": {},
   "outputs": [],
   "source": [
    "np.save('NACCID.npy', V12_used)"
   ]
  },
  {
   "cell_type": "markdown",
   "metadata": {},
   "source": [
    "## Find misdiagnosed "
   ]
  },
  {
   "cell_type": "markdown",
   "metadata": {},
   "source": [
    "#### Misdiganosed are individuals that recieve a dementia diagnosis who revert within 2 years of the diagnosis "
   ]
  },
  {
   "cell_type": "code",
   "execution_count": 68,
   "metadata": {},
   "outputs": [
    {
     "name": "stdout",
     "output_type": "stream",
     "text": [
      "Automatic pdb calling has been turned ON\n"
     ]
    }
   ],
   "source": [
    "%pdb"
   ]
  },
  {
   "cell_type": "code",
   "execution_count": 69,
   "metadata": {},
   "outputs": [
    {
     "name": "stdout",
     "output_type": "stream",
     "text": [
      "CPU times: user 10.2 s, sys: 21.4 ms, total: 10.2 s\n",
      "Wall time: 10.3 s\n"
     ]
    }
   ],
   "source": [
    "%%time\n",
    "\n",
    "# misdiagnosed values: -1 = N/A (no dementia diagnosis), 0 = not misdiagnosed, 1 = misdiagnosed\n",
    "misdiagnosed= []\n",
    "\n",
    "for i, patient in enumerate(V12_used):\n",
    "    \n",
    "    #only patients that are diagnosed with dementia\n",
    "    \n",
    "    if V12_outcome[i]==1:\n",
    "        \n",
    "        outcomes = data12[(data12['NACCID']==patient) & (data12['NACCVNUM']>1)]\n",
    "        \n",
    "        \n",
    "        #first dementia diagnosis\n",
    "        \n",
    "        dem_index = [x for x,v in enumerate(outcomes['NACCUDSD'].values) if v==4]\n",
    "        no_dem_index = [x for x,v in enumerate(outcomes['NACCUDSD'].values) if v!=4]\n",
    "        \n",
    "        loc0 = dem_index[0]\n",
    "        \n",
    "        # diagnosis does not change for whole followup\n",
    "        \n",
    "        if len(set(outcomes['NACCUDSD'].values[loc0:])) ==1:\n",
    "            \n",
    "            misdiagnosed.append(0)\n",
    "            continue\n",
    "            \n",
    "       \n",
    "        else: #diagnosis changes at some point\n",
    "            \n",
    "            #time of first diagnosis\n",
    "\n",
    "            year0 = outcomes['VISITYR'].values[loc0]\n",
    "            month0 = outcomes['VISITMO'].values[loc0]\n",
    "        \n",
    "            for loc_no in no_dem_index:\n",
    "                \n",
    "                if loc_no > loc0:\n",
    "                    \n",
    "                    t=loc_no #time of first no dementia diagnosis\n",
    "                    \n",
    "                    break\n",
    "\n",
    "        \n",
    "\n",
    "            year1 = outcomes['VISITYR'].values[t]\n",
    "            month1 = outcomes['VISITMO'].values[t]\n",
    "            \n",
    "            months = calculate_months(year0, month0, year1, month1) \n",
    "            \n",
    "            if months>29: #diagnosis changed outside 2 year window\n",
    "\n",
    "                misdiagnosed.append(0)\n",
    "\n",
    "                continue\n",
    "                \n",
    "            else:\n",
    "                \n",
    "                misdiagnosed.append(1)\n",
    "                \n",
    "                continue\n",
    "\n",
    "                \n",
    "    else:\n",
    "        misdiagnosed.append(-1)\n",
    "        \n",
    "\n"
   ]
  },
  {
   "cell_type": "code",
   "execution_count": 70,
   "metadata": {},
   "outputs": [
    {
     "data": {
      "text/plain": [
       "130"
      ]
     },
     "execution_count": 70,
     "metadata": {},
     "output_type": "execute_result"
    }
   ],
   "source": [
    "sum(1 for m in misdiagnosed if m==1)"
   ]
  },
  {
   "cell_type": "code",
   "execution_count": 71,
   "metadata": {},
   "outputs": [],
   "source": [
    "np.save('misdiagnosed.npy', misdiagnosed)"
   ]
  }
 ],
 "metadata": {
  "kernelspec": {
   "display_name": "Python 3",
   "language": "python",
   "name": "python3"
  },
  "language_info": {
   "codemirror_mode": {
    "name": "ipython",
    "version": 3
   },
   "file_extension": ".py",
   "mimetype": "text/x-python",
   "name": "python",
   "nbconvert_exporter": "python",
   "pygments_lexer": "ipython3",
   "version": "3.9.1"
  }
 },
 "nbformat": 4,
 "nbformat_minor": 4
}
